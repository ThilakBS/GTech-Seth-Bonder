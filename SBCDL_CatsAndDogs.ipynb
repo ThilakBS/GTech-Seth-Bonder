{
  "cells": [
    {
      "cell_type": "markdown",
      "metadata": {
        "id": "view-in-github",
        "colab_type": "text"
      },
      "source": [
        "<a href=\"https://colab.research.google.com/github/ThilakBS/GTech-Seth-Bonder/blob/main/SBCDL_CatsAndDogs.ipynb\" target=\"_parent\"><img src=\"https://colab.research.google.com/assets/colab-badge.svg\" alt=\"Open In Colab\"/></a>"
      ]
    },
    {
      "cell_type": "markdown",
      "id": "dcd81251-ebd8-4dfa-b1b3-8cca70ae305e",
      "metadata": {
        "id": "dcd81251-ebd8-4dfa-b1b3-8cca70ae305e"
      },
      "source": [
        "# Go wild -- this assignment is to recognize Cats and Dogs. The load dataset function is loading the data properly.\n",
        "# Note that the image are in color, i.e., different from the MNIST and Fashion image. The tensors will be different\n",
        "# The rest is yours. Here are a few suggestions\n",
        "\n",
        "# 1. Start with a basic model -- that is your baseline\n",
        "# 2. Move a convolutional network\n",
        "# 3. Finish with a convolutional network with data augmentation (see the video)"
      ]
    },
    {
      "cell_type": "code",
      "execution_count": null,
      "id": "792ce082",
      "metadata": {
        "id": "792ce082"
      },
      "outputs": [],
      "source": [
        "# USE ONLY IF using a GPU on PACE\n",
        "\n",
        "# If this is not imported the GPU on the PACE will not function properly\n",
        "# otherwise, on another system, it will need built with cuda and loaded\n",
        "# the same version to work properly\n",
        "# os.system(\"module load cuda/12.1.1\")\n",
        "import os\n",
        "import time\n",
        "os.system(\"module load cuda/12.1.1\")\n",
        "time.sleep(20)"
      ]
    },
    {
      "cell_type": "code",
      "source": [
        "from google.colab import drive\n",
        "drive.mount('/content/drive')"
      ],
      "metadata": {
        "colab": {
          "base_uri": "https://localhost:8080/"
        },
        "id": "Uk1-bs_xvQP0",
        "outputId": "7b53c21d-d1b0-4006-8f0e-4c6d18982460"
      },
      "id": "Uk1-bs_xvQP0",
      "execution_count": null,
      "outputs": [
        {
          "output_type": "stream",
          "name": "stdout",
          "text": [
            "Mounted at /content/drive\n"
          ]
        }
      ]
    },
    {
      "cell_type": "code",
      "execution_count": null,
      "id": "ba135fa5-1d46-4d81-9a73-6507077d1afd",
      "metadata": {
        "id": "ba135fa5-1d46-4d81-9a73-6507077d1afd"
      },
      "outputs": [],
      "source": [
        "from tensorflow import keras\n",
        "from keras import layers\n",
        "from keras.datasets import imdb\n",
        "import numpy as np\n",
        "import os, shutil, pathlib\n",
        "from keras.utils import load_img\n",
        "from keras.utils import img_to_array\n",
        "from keras.utils import array_to_img\n",
        "import matplotlib.pyplot as plt\n",
        "import tensorflow as tf\n",
        "from PIL import Image\n",
        "size_picture = 128"
      ]
    },
    {
      "cell_type": "code",
      "execution_count": null,
      "id": "f633c946",
      "metadata": {
        "id": "f633c946"
      },
      "outputs": [],
      "source": [
        "from keras.utils import image_dataset_from_directory"
      ]
    },
    {
      "cell_type": "code",
      "execution_count": null,
      "id": "98f76a30",
      "metadata": {
        "id": "98f76a30"
      },
      "outputs": [],
      "source": [
        "def tensor_from_image(name):\n",
        "    img = load_img(name)\n",
        "    img = img.resize((size_picture,size_picture))\n",
        "    return (img,img_to_array(img).astype(\"uint8\").reshape((size_picture,size_picture,3)))"
      ]
    },
    {
      "cell_type": "code",
      "execution_count": null,
      "id": "947ad042",
      "metadata": {
        "id": "947ad042"
      },
      "outputs": [],
      "source": [
        "def load_dataset(start_index,end_index):\n",
        "    images = []\n",
        "    tensor_inputs = np.zeros((2*(end_index-start_index+1),size_picture,size_picture,3))\n",
        "    tensor_labels = np.zeros((2*(end_index-start_index+1),1))\n",
        "    base_directory = pathlib.Path('../datasets/cats_and_dogs/training_set')\n",
        "    k = 0\n",
        "    for category in {\"cat\",\"dog\"}:\n",
        "        names = [f\"{category}.{i}.jpg\" for i in range(start_index,end_index+1)]\n",
        "        for n in names:\n",
        "            fname = base_directory / category / n\n",
        "            (img,t) = tensor_from_image(fname)\n",
        "            images.append(img)\n",
        "            tensor_inputs[k] = t\n",
        "            tensor_labels[k] = (category == 'dog')\n",
        "            k += 1\n",
        "    return (images,tensor_inputs,tensor_labels)"
      ]
    },
    {
      "cell_type": "code",
      "execution_count": null,
      "id": "b02dcfe1",
      "metadata": {
        "id": "b02dcfe1"
      },
      "outputs": [],
      "source": [
        "def binary_classify(model,inputs,outputs):\n",
        "  model.compile(optimizer=\"rmsprop\",loss=\"binary_crossentropy\",metrics=[\"accuracy\"])\n",
        "  model.fit(inputs,outputs,epochs=100)"
      ]
    },
    {
      "cell_type": "code",
      "execution_count": null,
      "id": "cebe1f0f",
      "metadata": {
        "colab": {
          "base_uri": "https://localhost:8080/",
          "height": 321
        },
        "id": "cebe1f0f",
        "outputId": "9f4db489-8c91-404c-e632-e365c48c111e"
      },
      "outputs": [
        {
          "output_type": "error",
          "ename": "FileNotFoundError",
          "evalue": "[Errno 2] No such file or directory: '/datasets/cats_and_dogs/training_set/dog/dog.1.jpg'",
          "traceback": [
            "\u001b[0;31m---------------------------------------------------------------------------\u001b[0m",
            "\u001b[0;31mFileNotFoundError\u001b[0m                         Traceback (most recent call last)",
            "\u001b[0;32m<ipython-input-10-7fadf259fdeb>\u001b[0m in \u001b[0;36m<cell line: 1>\u001b[0;34m()\u001b[0m\n\u001b[0;32m----> 1\u001b[0;31m \u001b[0;34m(\u001b[0m\u001b[0mtraining_images\u001b[0m\u001b[0;34m,\u001b[0m\u001b[0mtraining_inputs\u001b[0m\u001b[0;34m,\u001b[0m\u001b[0mtraining_labels\u001b[0m\u001b[0;34m)\u001b[0m \u001b[0;34m=\u001b[0m \u001b[0mload_dataset\u001b[0m\u001b[0;34m(\u001b[0m\u001b[0;36m1\u001b[0m\u001b[0;34m,\u001b[0m\u001b[0;36m3000\u001b[0m\u001b[0;34m)\u001b[0m\u001b[0;34m\u001b[0m\u001b[0;34m\u001b[0m\u001b[0m\n\u001b[0m\u001b[1;32m      2\u001b[0m \u001b[0;34m(\u001b[0m\u001b[0mtesting_images\u001b[0m\u001b[0;34m,\u001b[0m\u001b[0mtesting_inputs\u001b[0m\u001b[0;34m,\u001b[0m\u001b[0mtesting_labels\u001b[0m\u001b[0;34m)\u001b[0m \u001b[0;34m=\u001b[0m \u001b[0mload_dataset\u001b[0m\u001b[0;34m(\u001b[0m\u001b[0;36m3001\u001b[0m\u001b[0;34m,\u001b[0m\u001b[0;36m3999\u001b[0m\u001b[0;34m)\u001b[0m\u001b[0;34m\u001b[0m\u001b[0;34m\u001b[0m\u001b[0m\n",
            "\u001b[0;32m<ipython-input-6-1921522b4432>\u001b[0m in \u001b[0;36mload_dataset\u001b[0;34m(start_index, end_index)\u001b[0m\n\u001b[1;32m      9\u001b[0m         \u001b[0;32mfor\u001b[0m \u001b[0mn\u001b[0m \u001b[0;32min\u001b[0m \u001b[0mnames\u001b[0m\u001b[0;34m:\u001b[0m\u001b[0;34m\u001b[0m\u001b[0;34m\u001b[0m\u001b[0m\n\u001b[1;32m     10\u001b[0m             \u001b[0mfname\u001b[0m \u001b[0;34m=\u001b[0m \u001b[0mbase_directory\u001b[0m \u001b[0;34m/\u001b[0m \u001b[0mcategory\u001b[0m \u001b[0;34m/\u001b[0m \u001b[0mn\u001b[0m\u001b[0;34m\u001b[0m\u001b[0;34m\u001b[0m\u001b[0m\n\u001b[0;32m---> 11\u001b[0;31m             \u001b[0;34m(\u001b[0m\u001b[0mimg\u001b[0m\u001b[0;34m,\u001b[0m\u001b[0mt\u001b[0m\u001b[0;34m)\u001b[0m \u001b[0;34m=\u001b[0m \u001b[0mtensor_from_image\u001b[0m\u001b[0;34m(\u001b[0m\u001b[0mfname\u001b[0m\u001b[0;34m)\u001b[0m\u001b[0;34m\u001b[0m\u001b[0;34m\u001b[0m\u001b[0m\n\u001b[0m\u001b[1;32m     12\u001b[0m             \u001b[0mimages\u001b[0m\u001b[0;34m.\u001b[0m\u001b[0mappend\u001b[0m\u001b[0;34m(\u001b[0m\u001b[0mimg\u001b[0m\u001b[0;34m)\u001b[0m\u001b[0;34m\u001b[0m\u001b[0;34m\u001b[0m\u001b[0m\n\u001b[1;32m     13\u001b[0m             \u001b[0mtensor_inputs\u001b[0m\u001b[0;34m[\u001b[0m\u001b[0mk\u001b[0m\u001b[0;34m]\u001b[0m \u001b[0;34m=\u001b[0m \u001b[0mt\u001b[0m\u001b[0;34m\u001b[0m\u001b[0;34m\u001b[0m\u001b[0m\n",
            "\u001b[0;32m<ipython-input-5-5d35d268a6ec>\u001b[0m in \u001b[0;36mtensor_from_image\u001b[0;34m(name)\u001b[0m\n\u001b[1;32m      1\u001b[0m \u001b[0;32mdef\u001b[0m \u001b[0mtensor_from_image\u001b[0m\u001b[0;34m(\u001b[0m\u001b[0mname\u001b[0m\u001b[0;34m)\u001b[0m\u001b[0;34m:\u001b[0m\u001b[0;34m\u001b[0m\u001b[0;34m\u001b[0m\u001b[0m\n\u001b[0;32m----> 2\u001b[0;31m     \u001b[0mimg\u001b[0m \u001b[0;34m=\u001b[0m \u001b[0mload_img\u001b[0m\u001b[0;34m(\u001b[0m\u001b[0mname\u001b[0m\u001b[0;34m)\u001b[0m\u001b[0;34m\u001b[0m\u001b[0;34m\u001b[0m\u001b[0m\n\u001b[0m\u001b[1;32m      3\u001b[0m     \u001b[0mimg\u001b[0m \u001b[0;34m=\u001b[0m \u001b[0mimg\u001b[0m\u001b[0;34m.\u001b[0m\u001b[0mresize\u001b[0m\u001b[0;34m(\u001b[0m\u001b[0;34m(\u001b[0m\u001b[0msize_picture\u001b[0m\u001b[0;34m,\u001b[0m\u001b[0msize_picture\u001b[0m\u001b[0;34m)\u001b[0m\u001b[0;34m)\u001b[0m\u001b[0;34m\u001b[0m\u001b[0;34m\u001b[0m\u001b[0m\n\u001b[1;32m      4\u001b[0m     \u001b[0;32mreturn\u001b[0m \u001b[0;34m(\u001b[0m\u001b[0mimg\u001b[0m\u001b[0;34m,\u001b[0m\u001b[0mimg_to_array\u001b[0m\u001b[0;34m(\u001b[0m\u001b[0mimg\u001b[0m\u001b[0;34m)\u001b[0m\u001b[0;34m.\u001b[0m\u001b[0mastype\u001b[0m\u001b[0;34m(\u001b[0m\u001b[0;34m\"uint8\"\u001b[0m\u001b[0;34m)\u001b[0m\u001b[0;34m.\u001b[0m\u001b[0mreshape\u001b[0m\u001b[0;34m(\u001b[0m\u001b[0;34m(\u001b[0m\u001b[0msize_picture\u001b[0m\u001b[0;34m,\u001b[0m\u001b[0msize_picture\u001b[0m\u001b[0;34m,\u001b[0m\u001b[0;36m3\u001b[0m\u001b[0;34m)\u001b[0m\u001b[0;34m)\u001b[0m\u001b[0;34m)\u001b[0m\u001b[0;34m\u001b[0m\u001b[0;34m\u001b[0m\u001b[0m\n",
            "\u001b[0;32m/usr/local/lib/python3.10/dist-packages/keras/src/utils/image_utils.py\u001b[0m in \u001b[0;36mload_img\u001b[0;34m(path, grayscale, color_mode, target_size, interpolation, keep_aspect_ratio)\u001b[0m\n\u001b[1;32m    420\u001b[0m         \u001b[0;32mif\u001b[0m \u001b[0misinstance\u001b[0m\u001b[0;34m(\u001b[0m\u001b[0mpath\u001b[0m\u001b[0;34m,\u001b[0m \u001b[0mpathlib\u001b[0m\u001b[0;34m.\u001b[0m\u001b[0mPath\u001b[0m\u001b[0;34m)\u001b[0m\u001b[0;34m:\u001b[0m\u001b[0;34m\u001b[0m\u001b[0;34m\u001b[0m\u001b[0m\n\u001b[1;32m    421\u001b[0m             \u001b[0mpath\u001b[0m \u001b[0;34m=\u001b[0m \u001b[0mstr\u001b[0m\u001b[0;34m(\u001b[0m\u001b[0mpath\u001b[0m\u001b[0;34m.\u001b[0m\u001b[0mresolve\u001b[0m\u001b[0;34m(\u001b[0m\u001b[0;34m)\u001b[0m\u001b[0;34m)\u001b[0m\u001b[0;34m\u001b[0m\u001b[0;34m\u001b[0m\u001b[0m\n\u001b[0;32m--> 422\u001b[0;31m         \u001b[0;32mwith\u001b[0m \u001b[0mopen\u001b[0m\u001b[0;34m(\u001b[0m\u001b[0mpath\u001b[0m\u001b[0;34m,\u001b[0m \u001b[0;34m\"rb\"\u001b[0m\u001b[0;34m)\u001b[0m \u001b[0;32mas\u001b[0m \u001b[0mf\u001b[0m\u001b[0;34m:\u001b[0m\u001b[0;34m\u001b[0m\u001b[0;34m\u001b[0m\u001b[0m\n\u001b[0m\u001b[1;32m    423\u001b[0m             \u001b[0mimg\u001b[0m \u001b[0;34m=\u001b[0m \u001b[0mpil_image\u001b[0m\u001b[0;34m.\u001b[0m\u001b[0mopen\u001b[0m\u001b[0;34m(\u001b[0m\u001b[0mio\u001b[0m\u001b[0;34m.\u001b[0m\u001b[0mBytesIO\u001b[0m\u001b[0;34m(\u001b[0m\u001b[0mf\u001b[0m\u001b[0;34m.\u001b[0m\u001b[0mread\u001b[0m\u001b[0;34m(\u001b[0m\u001b[0;34m)\u001b[0m\u001b[0;34m)\u001b[0m\u001b[0;34m)\u001b[0m\u001b[0;34m\u001b[0m\u001b[0;34m\u001b[0m\u001b[0m\n\u001b[1;32m    424\u001b[0m     \u001b[0;32melse\u001b[0m\u001b[0;34m:\u001b[0m\u001b[0;34m\u001b[0m\u001b[0;34m\u001b[0m\u001b[0m\n",
            "\u001b[0;31mFileNotFoundError\u001b[0m: [Errno 2] No such file or directory: '/datasets/cats_and_dogs/training_set/dog/dog.1.jpg'"
          ]
        }
      ],
      "source": [
        "(training_images,training_inputs,training_labels) = load_dataset(1,3000)\n",
        "(testing_images,testing_inputs,testing_labels) = load_dataset(3001,3999)"
      ]
    },
    {
      "cell_type": "code",
      "execution_count": null,
      "id": "6fa9958c-05f5-4232-b850-7862f01e3644",
      "metadata": {
        "id": "6fa9958c-05f5-4232-b850-7862f01e3644"
      },
      "outputs": [],
      "source": [
        "def build_model(training_images):\n",
        "  data_augmentation = keras.Sequential(\n",
        "    [\n",
        "      layers.RandomFlip(\"horizontal\"),\n",
        "      layers.RandomRotation(0.1),\n",
        "      layers.RandomZoom(0.2),\n",
        "    ]\n",
        "  )\n",
        "  input = keras.Input(shape=(training_images[1],training_images[2],3),name=\"data\")\n",
        "  x = data_augmentation(input)\n",
        "  x = layers.Rescaling(1./255)(x)\n",
        "  x = layers.Conv2D(filters = 32, kernel_size = 3, activation = 'relu')(x)\n",
        "  x = layers.MaxPooling2D(pool_size = 2)(x)\n",
        "  x = layers.Conv2D(filters = 64, kernel_size = 3, activation = 'relu')(x)\n",
        "  x = layers.MaxPooling2D(pool_size = 2)(x)\n",
        "  x = layers.Conv2D(filters = 128, kernel_size = 3, activation = 'relu')(x)\n",
        "  x = layers.Flatten()(x)\n",
        "  output = layers.Dense(1, activation = 'sigmoid')(x)\n",
        "  model = keras.Model(input, output)\n",
        "  return model"
      ]
    },
    {
      "cell_type": "code",
      "execution_count": null,
      "id": "066ba1f5",
      "metadata": {
        "id": "066ba1f5"
      },
      "outputs": [],
      "source": [
        "def train_model(model,inputs,outputs):\n",
        "  model.compile(optimizer=\"rmsprop\",loss=\"binary_crossentropy\",metrics=[\"accuracy\"])\n",
        "  model.fit(inputs,outputs,epochs=100)"
      ]
    },
    {
      "cell_type": "code",
      "execution_count": null,
      "id": "84836160-df14-416c-be3c-59af3d3ae13a",
      "metadata": {
        "id": "84836160-df14-416c-be3c-59af3d3ae13a"
      },
      "outputs": [],
      "source": [
        "model = build_model(training_inputs.shape[1:])\n"
      ]
    },
    {
      "cell_type": "code",
      "source": [
        "train_model(model,training_inputs,training_labels)"
      ],
      "metadata": {
        "id": "lCCjhkj9CHNN"
      },
      "id": "lCCjhkj9CHNN",
      "execution_count": null,
      "outputs": []
    },
    {
      "cell_type": "code",
      "source": [
        "model.evaluate(testing_inputs,testing_labels)"
      ],
      "metadata": {
        "id": "hnKc4kRcCHJ3"
      },
      "id": "hnKc4kRcCHJ3",
      "execution_count": null,
      "outputs": []
    },
    {
      "cell_type": "code",
      "execution_count": null,
      "id": "86d179c7-ca6d-40e4-bc03-610f488b6fab",
      "metadata": {
        "id": "86d179c7-ca6d-40e4-bc03-610f488b6fab"
      },
      "outputs": [],
      "source": []
    },
    {
      "cell_type": "code",
      "execution_count": null,
      "id": "5c242126-8bdb-4187-9bf3-0478b1703c77",
      "metadata": {
        "id": "5c242126-8bdb-4187-9bf3-0478b1703c77"
      },
      "outputs": [],
      "source": []
    },
    {
      "cell_type": "code",
      "execution_count": null,
      "id": "e242e8cb",
      "metadata": {
        "scrolled": true,
        "id": "e242e8cb"
      },
      "outputs": [],
      "source": []
    },
    {
      "cell_type": "code",
      "execution_count": null,
      "id": "cdefd5e5-5bf8-48ed-ad3f-c814be219067",
      "metadata": {
        "id": "cdefd5e5-5bf8-48ed-ad3f-c814be219067"
      },
      "outputs": [],
      "source": []
    },
    {
      "cell_type": "code",
      "execution_count": null,
      "id": "fb7b37ac",
      "metadata": {
        "id": "fb7b37ac"
      },
      "outputs": [],
      "source": []
    },
    {
      "cell_type": "code",
      "execution_count": null,
      "id": "55e1f832",
      "metadata": {
        "id": "55e1f832"
      },
      "outputs": [],
      "source": []
    },
    {
      "cell_type": "code",
      "execution_count": null,
      "id": "10259b32",
      "metadata": {
        "id": "10259b32"
      },
      "outputs": [],
      "source": []
    },
    {
      "cell_type": "code",
      "execution_count": null,
      "id": "556aceeb",
      "metadata": {
        "id": "556aceeb"
      },
      "outputs": [],
      "source": []
    }
  ],
  "metadata": {
    "kernelspec": {
      "display_name": "Python [conda env:SBCDL]",
      "language": "python",
      "name": "conda-env-SBCDL-py"
    },
    "language_info": {
      "codemirror_mode": {
        "name": "ipython",
        "version": 3
      },
      "file_extension": ".py",
      "mimetype": "text/x-python",
      "name": "python",
      "nbconvert_exporter": "python",
      "pygments_lexer": "ipython3",
      "version": "3.12.4"
    },
    "colab": {
      "provenance": [],
      "include_colab_link": true
    }
  },
  "nbformat": 4,
  "nbformat_minor": 5
}