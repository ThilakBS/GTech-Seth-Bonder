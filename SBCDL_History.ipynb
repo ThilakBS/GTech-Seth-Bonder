{
  "cells": [
    {
      "cell_type": "markdown",
      "metadata": {
        "id": "view-in-github",
        "colab_type": "text"
      },
      "source": [
        "<a href=\"https://colab.research.google.com/github/ThilakBS/GTech-Seth-Bonder/blob/main/SBCDL_History.ipynb\" target=\"_parent\"><img src=\"https://colab.research.google.com/assets/colab-badge.svg\" alt=\"Open In Colab\"/></a>"
      ]
    },
    {
      "cell_type": "code",
      "execution_count": null,
      "id": "4089d35f",
      "metadata": {
        "id": "4089d35f"
      },
      "outputs": [],
      "source": [
        "import tensorflow\n",
        "import keras\n",
        "from  keras import layers\n",
        "from keras.datasets import imdb\n",
        "import numpy as np\n",
        "\n",
        "nb_words = 10000\n",
        "(train_data, train_labels), (test_data, test_labels) = imdb.load_data(num_words=nb_words)"
      ]
    },
    {
      "cell_type": "markdown",
      "id": "f934cc8d-3a67-4a9d-b944-f4a8c621edd0",
      "metadata": {
        "id": "f934cc8d-3a67-4a9d-b944-f4a8c621edd0"
      },
      "source": [
        "# get the word index and its reverse"
      ]
    },
    {
      "cell_type": "code",
      "execution_count": null,
      "id": "f3b017b6-115d-4571-8fee-b423c5927590",
      "metadata": {
        "id": "f3b017b6-115d-4571-8fee-b423c5927590"
      },
      "outputs": [],
      "source": [
        "word_index = imdb.get_word_index()\n",
        "reverse_word_index = dict([(value, key) for (key, value) in word_index.items()])"
      ]
    },
    {
      "cell_type": "markdown",
      "id": "c98ab52f-91af-4b1e-8110-ea4f8a5780a8",
      "metadata": {
        "id": "c98ab52f-91af-4b1e-8110-ea4f8a5780a8"
      },
      "source": [
        "# get the actual review"
      ]
    },
    {
      "cell_type": "code",
      "execution_count": null,
      "id": "b857604b-118f-4bed-ad2a-d584fe4fb18c",
      "metadata": {
        "id": "b857604b-118f-4bed-ad2a-d584fe4fb18c"
      },
      "outputs": [],
      "source": [
        "def get_review_text(review):\n",
        "   return \" \".join([reverse_word_index.get(i - 3, \"?\") for i in review])"
      ]
    },
    {
      "cell_type": "markdown",
      "id": "007d3ab0-a938-4a6b-b38a-f959af6c7344",
      "metadata": {
        "id": "007d3ab0-a938-4a6b-b38a-f959af6c7344"
      },
      "source": [
        "# print the actual review"
      ]
    },
    {
      "cell_type": "code",
      "execution_count": null,
      "id": "262fbc28-562a-43de-bcbc-00eb1398753a",
      "metadata": {
        "colab": {
          "base_uri": "https://localhost:8080/"
        },
        "id": "262fbc28-562a-43de-bcbc-00eb1398753a",
        "outputId": "0384f619-3ada-480c-d171-dfd7d7fc3b12"
      },
      "outputs": [
        {
          "output_type": "stream",
          "name": "stdout",
          "text": [
            "? lavish production values and solid performances in this straightforward adaption of jane ? satirical classic about the marriage game within and between the classes in ? 18th century england northam and paltrow are a ? mixture as friends who must pass through ? and lies to discover that they love each other good humor is a ? virtue which goes a long way towards explaining the ? of the aged source material which has been toned down a bit in its harsh ? i liked the look of the film and how shots were set up and i thought it didn't rely too much on ? of head shots like most other films of the 80s and 90s do very good results\n"
          ]
        }
      ],
      "source": [
        "print(get_review_text(train_data[6]))"
      ]
    },
    {
      "cell_type": "markdown",
      "id": "92b1af95-1145-4f28-8599-12618f365f8a",
      "metadata": {
        "id": "92b1af95-1145-4f28-8599-12618f365f8a"
      },
      "source": [
        "# define the one-hot encoding // The dimension is the number of words"
      ]
    },
    {
      "cell_type": "code",
      "execution_count": null,
      "id": "3978addb-31db-4211-b304-a1f7b1d8113d",
      "metadata": {
        "id": "3978addb-31db-4211-b304-a1f7b1d8113d"
      },
      "outputs": [],
      "source": [
        "def one_hot_encode(sequences,dimension):\n",
        "    encodings = np.zeros((len(sequences),dimension))\n",
        "    for i, sequence in enumerate(sequences):\n",
        "      for j in sequence:\n",
        "          encodings[i,j] = 1\n",
        "    return encodings"
      ]
    },
    {
      "cell_type": "markdown",
      "id": "bc4a0dc2-730c-4ce4-b135-754e6539f5c0",
      "metadata": {
        "id": "bc4a0dc2-730c-4ce4-b135-754e6539f5c0"
      },
      "source": [
        "# train a binary classification model"
      ]
    },
    {
      "cell_type": "code",
      "execution_count": null,
      "id": "74005da7-e896-4c42-bcc3-bd7a1f2e7198",
      "metadata": {
        "id": "74005da7-e896-4c42-bcc3-bd7a1f2e7198"
      },
      "outputs": [],
      "source": [
        "def train_the_binary_classification(model,inputs,outputs,val_inputs,val_outputs):\n",
        "  model.compile(optimizer=\"rmsprop\",loss=\"binary_crossentropy\",metrics=[\"binary_accuracy\"])\n",
        "  return model.fit(inputs,outputs,epochs=20,batch_size=512,validation_data=(val_inputs,val_outputs))"
      ]
    },
    {
      "cell_type": "markdown",
      "id": "8984c07d-8d8c-45d0-b75a-195fac87d871",
      "metadata": {
        "id": "8984c07d-8d8c-45d0-b75a-195fac87d871"
      },
      "source": [
        "# Define the training and validation data"
      ]
    },
    {
      "cell_type": "code",
      "execution_count": null,
      "id": "a9b5a7d3-a8b7-4d36-970f-8f489cf58ef2",
      "metadata": {
        "id": "a9b5a7d3-a8b7-4d36-970f-8f489cf58ef2"
      },
      "outputs": [],
      "source": [
        "val_data = train_data[:10000]\n",
        "val_labels = train_labels[:10000]\n",
        "train_data = train_data[10000:]\n",
        "train_labels = train_labels[10000:]"
      ]
    },
    {
      "cell_type": "markdown",
      "id": "e8f5aad1-8bdc-4a28-9a8c-c822922d0901",
      "metadata": {
        "id": "e8f5aad1-8bdc-4a28-9a8c-c822922d0901"
      },
      "source": [
        "# Encode the data"
      ]
    },
    {
      "cell_type": "code",
      "execution_count": null,
      "id": "c46851f5",
      "metadata": {
        "id": "c46851f5"
      },
      "outputs": [],
      "source": [
        "etrain = one_hot_encode(train_data,dimension=nb_words)\n",
        "eval = one_hot_encode(val_data,dimension=nb_words)\n",
        "etest = one_hot_encode(test_data,dimension=nb_words)"
      ]
    },
    {
      "cell_type": "markdown",
      "id": "82378607-7244-44dd-bc21-71d9d7a0de2e",
      "metadata": {
        "id": "82378607-7244-44dd-bc21-71d9d7a0de2e"
      },
      "source": [
        "# Define a great model"
      ]
    },
    {
      "cell_type": "code",
      "execution_count": null,
      "id": "a9224dbc",
      "metadata": {
        "colab": {
          "base_uri": "https://localhost:8080/"
        },
        "id": "a9224dbc",
        "outputId": "097bcad7-d206-4eda-f1e8-a11cd16bde16"
      },
      "outputs": [
        {
          "output_type": "stream",
          "name": "stdout",
          "text": [
            "Model: \"model_1\"\n",
            "_________________________________________________________________\n",
            " Layer (type)                Output Shape              Param #   \n",
            "=================================================================\n",
            " data (InputLayer)           [(None, 10000)]           0         \n",
            "                                                                 \n",
            " dense_3 (Dense)             (None, 16)                160016    \n",
            "                                                                 \n",
            " dense_4 (Dense)             (None, 16)                272       \n",
            "                                                                 \n",
            " dense_5 (Dense)             (None, 1)                 17        \n",
            "                                                                 \n",
            "=================================================================\n",
            "Total params: 160305 (626.19 KB)\n",
            "Trainable params: 160305 (626.19 KB)\n",
            "Non-trainable params: 0 (0.00 Byte)\n",
            "_________________________________________________________________\n"
          ]
        }
      ],
      "source": [
        "input = keras.Input(shape=(nb_words,),name=\"data\")\n",
        "l1 = layers.Dense(16,activation=\"relu\")(input)\n",
        "l2 = layers.Dense(16,activation=\"relu\")(l1)\n",
        "output = layers.Dense(1,activation=\"sigmoid\")(l2)\n",
        "model = keras.Model(inputs=input, outputs=output)\n",
        "\n",
        "model.summary()"
      ]
    },
    {
      "cell_type": "markdown",
      "id": "fd2b5b3e-7360-41da-87a8-524b0a2f7359",
      "metadata": {
        "id": "fd2b5b3e-7360-41da-87a8-524b0a2f7359"
      },
      "source": [
        "# Train the binary classification with a validation set"
      ]
    },
    {
      "cell_type": "code",
      "execution_count": null,
      "id": "6039cdbb",
      "metadata": {
        "colab": {
          "base_uri": "https://localhost:8080/"
        },
        "id": "6039cdbb",
        "outputId": "2444d31a-60bb-480d-ff35-35906e7331d7"
      },
      "outputs": [
        {
          "output_type": "stream",
          "name": "stdout",
          "text": [
            "Epoch 1/20\n",
            "30/30 [==============================] - 2s 40ms/step - loss: 0.5266 - binary_accuracy: 0.7727 - val_loss: 0.4300 - val_binary_accuracy: 0.8203\n",
            "Epoch 2/20\n",
            "30/30 [==============================] - 0s 8ms/step - loss: 0.3274 - binary_accuracy: 0.8941 - val_loss: 0.3124 - val_binary_accuracy: 0.8854\n",
            "Epoch 3/20\n",
            "30/30 [==============================] - 0s 8ms/step - loss: 0.2414 - binary_accuracy: 0.9207 - val_loss: 0.2896 - val_binary_accuracy: 0.8849\n",
            "Epoch 4/20\n",
            "30/30 [==============================] - 0s 8ms/step - loss: 0.1949 - binary_accuracy: 0.9351 - val_loss: 0.2760 - val_binary_accuracy: 0.8894\n",
            "Epoch 5/20\n",
            "30/30 [==============================] - 0s 8ms/step - loss: 0.1645 - binary_accuracy: 0.9439 - val_loss: 0.2798 - val_binary_accuracy: 0.8864\n",
            "Epoch 6/20\n",
            "30/30 [==============================] - 0s 8ms/step - loss: 0.1362 - binary_accuracy: 0.9575 - val_loss: 0.2868 - val_binary_accuracy: 0.8857\n",
            "Epoch 7/20\n",
            "30/30 [==============================] - 0s 8ms/step - loss: 0.1203 - binary_accuracy: 0.9623 - val_loss: 0.3014 - val_binary_accuracy: 0.8843\n",
            "Epoch 8/20\n",
            "30/30 [==============================] - 0s 8ms/step - loss: 0.1008 - binary_accuracy: 0.9683 - val_loss: 0.3139 - val_binary_accuracy: 0.8831\n",
            "Epoch 9/20\n",
            "30/30 [==============================] - 0s 9ms/step - loss: 0.0847 - binary_accuracy: 0.9763 - val_loss: 0.3310 - val_binary_accuracy: 0.8798\n",
            "Epoch 10/20\n",
            "30/30 [==============================] - 0s 8ms/step - loss: 0.0748 - binary_accuracy: 0.9795 - val_loss: 0.4344 - val_binary_accuracy: 0.8598\n",
            "Epoch 11/20\n",
            "30/30 [==============================] - 0s 8ms/step - loss: 0.0660 - binary_accuracy: 0.9819 - val_loss: 0.3834 - val_binary_accuracy: 0.8754\n",
            "Epoch 12/20\n",
            "30/30 [==============================] - 0s 8ms/step - loss: 0.0566 - binary_accuracy: 0.9857 - val_loss: 0.3909 - val_binary_accuracy: 0.8757\n",
            "Epoch 13/20\n",
            "30/30 [==============================] - 0s 9ms/step - loss: 0.0430 - binary_accuracy: 0.9909 - val_loss: 0.4139 - val_binary_accuracy: 0.8753\n",
            "Epoch 14/20\n",
            "30/30 [==============================] - 0s 9ms/step - loss: 0.0385 - binary_accuracy: 0.9919 - val_loss: 0.4331 - val_binary_accuracy: 0.8745\n",
            "Epoch 15/20\n",
            "30/30 [==============================] - 0s 8ms/step - loss: 0.0334 - binary_accuracy: 0.9937 - val_loss: 0.4557 - val_binary_accuracy: 0.8741\n",
            "Epoch 16/20\n",
            "30/30 [==============================] - 0s 9ms/step - loss: 0.0277 - binary_accuracy: 0.9951 - val_loss: 0.4800 - val_binary_accuracy: 0.8726\n",
            "Epoch 17/20\n",
            "30/30 [==============================] - 0s 8ms/step - loss: 0.0231 - binary_accuracy: 0.9965 - val_loss: 0.5257 - val_binary_accuracy: 0.8658\n",
            "Epoch 18/20\n",
            "30/30 [==============================] - 0s 7ms/step - loss: 0.0205 - binary_accuracy: 0.9972 - val_loss: 0.5353 - val_binary_accuracy: 0.8697\n",
            "Epoch 19/20\n",
            "30/30 [==============================] - 0s 8ms/step - loss: 0.0208 - binary_accuracy: 0.9949 - val_loss: 0.5619 - val_binary_accuracy: 0.8680\n",
            "Epoch 20/20\n",
            "30/30 [==============================] - 0s 11ms/step - loss: 0.0109 - binary_accuracy: 0.9997 - val_loss: 0.6504 - val_binary_accuracy: 0.8587\n"
          ]
        }
      ],
      "source": [
        "history = train_the_binary_classification(model,etrain,train_labels,eval,val_labels)"
      ]
    },
    {
      "cell_type": "markdown",
      "id": "3d17ba0c-e0ca-45cd-ab68-2d9cacb557c2",
      "metadata": {
        "id": "3d17ba0c-e0ca-45cd-ab68-2d9cacb557c2"
      },
      "source": [
        "# Evaluate on the training data"
      ]
    },
    {
      "cell_type": "code",
      "execution_count": null,
      "id": "a0236678-acfc-40dd-9363-e8c5fedb234d",
      "metadata": {
        "colab": {
          "base_uri": "https://localhost:8080/"
        },
        "id": "a0236678-acfc-40dd-9363-e8c5fedb234d",
        "outputId": "3143ccc6-2c3f-42d5-b4e9-3a4e35d03c2c"
      },
      "outputs": [
        {
          "output_type": "stream",
          "name": "stdout",
          "text": [
            "469/469 [==============================] - 1s 1ms/step - loss: 0.0217 - binary_accuracy: 0.9976\n"
          ]
        },
        {
          "output_type": "execute_result",
          "data": {
            "text/plain": [
              "[0.021673474460840225, 0.9976000189781189]"
            ]
          },
          "metadata": {},
          "execution_count": 22
        }
      ],
      "source": [
        "model.evaluate(etrain,train_labels)"
      ]
    },
    {
      "cell_type": "markdown",
      "id": "acb56034-2860-49a3-b4bc-a72c0391d793",
      "metadata": {
        "id": "acb56034-2860-49a3-b4bc-a72c0391d793"
      },
      "source": [
        "# Evaluate on the Validation Data"
      ]
    },
    {
      "cell_type": "code",
      "execution_count": null,
      "id": "71fc69d6-f023-40e4-a075-e8a7b53507db",
      "metadata": {
        "colab": {
          "base_uri": "https://localhost:8080/"
        },
        "id": "71fc69d6-f023-40e4-a075-e8a7b53507db",
        "outputId": "b8d20793-19ad-45d8-f0e4-cb406fd0f1b1"
      },
      "outputs": [
        {
          "output_type": "stream",
          "name": "stdout",
          "text": [
            "313/313 [==============================] - 0s 2ms/step - loss: 0.6504 - binary_accuracy: 0.8587\n"
          ]
        },
        {
          "output_type": "execute_result",
          "data": {
            "text/plain": [
              "[0.6503890156745911, 0.8586999773979187]"
            ]
          },
          "metadata": {},
          "execution_count": 23
        }
      ],
      "source": [
        "model.evaluate(eval,val_labels)"
      ]
    },
    {
      "cell_type": "markdown",
      "id": "fcd25685-cb19-43fa-9e11-adda1d4aeffa",
      "metadata": {
        "id": "fcd25685-cb19-43fa-9e11-adda1d4aeffa"
      },
      "source": [
        "# Evaluate on the testing data"
      ]
    },
    {
      "cell_type": "code",
      "execution_count": null,
      "id": "dc0ba038-725c-4e76-844a-a31998bdda8c",
      "metadata": {
        "colab": {
          "base_uri": "https://localhost:8080/"
        },
        "id": "dc0ba038-725c-4e76-844a-a31998bdda8c",
        "outputId": "8a490ecd-3dbe-45a5-b25f-dfe6edfb3e63"
      },
      "outputs": [
        {
          "output_type": "stream",
          "name": "stdout",
          "text": [
            "782/782 [==============================] - 1s 1ms/step - loss: 0.7195 - binary_accuracy: 0.8472\n"
          ]
        },
        {
          "output_type": "execute_result",
          "data": {
            "text/plain": [
              "[0.7195020318031311, 0.8471599817276001]"
            ]
          },
          "metadata": {},
          "execution_count": 24
        }
      ],
      "source": [
        "model.evaluate(etest,test_labels)"
      ]
    },
    {
      "cell_type": "markdown",
      "id": "a9ef6291-5daf-4d69-8be9-0a72625bc9a7",
      "metadata": {
        "id": "a9ef6291-5daf-4d69-8be9-0a72625bc9a7"
      },
      "source": [
        "# Plot the Training and Validation Losses"
      ]
    },
    {
      "cell_type": "code",
      "source": [
        "import matplotlib.pyplot as plt\n",
        "history_dict = history.history\n",
        "loss_values = history_dict[\"loss\"]\n",
        "val_loss_values = history_dict[\"val_loss\"]\n",
        "epochs = range(1, len(loss_values) + 1)\n",
        "plt.plot(epochs, loss_values, \"bo\", label=\"Training loss\")\n",
        "plt.plot(epochs, val_loss_values, \"b\", label=\"Validation loss\")\n",
        "plt.title(\"Training and validation loss\")\n",
        "plt.xlabel(\"Epochs\")\n",
        "plt.ylabel(\"Loss\")\n",
        "plt.legend()\n",
        "plt.show()"
      ],
      "metadata": {
        "colab": {
          "base_uri": "https://localhost:8080/",
          "height": 472
        },
        "id": "N-DPAWRjecqO",
        "outputId": "da9a7af1-f5af-42ed-851c-2fe46a7c2871"
      },
      "id": "N-DPAWRjecqO",
      "execution_count": null,
      "outputs": [
        {
          "output_type": "display_data",
          "data": {
            "text/plain": [
              "<Figure size 640x480 with 1 Axes>"
            ],
            "image/png": "[encoded data removed]"
          },
          "metadata": {}
        }
      ]
    },
    {
      "cell_type": "markdown",
      "id": "91618075-5b6e-4925-8b11-eff271215423",
      "metadata": {
        "id": "91618075-5b6e-4925-8b11-eff271215423"
      },
      "source": [
        "# Plot the Training and Validation Losses"
      ]
    },
    {
      "cell_type": "code",
      "execution_count": null,
      "id": "91a2ca81-f612-452b-ad2f-7e470bcde61f",
      "metadata": {
        "id": "91a2ca81-f612-452b-ad2f-7e470bcde61f"
      },
      "outputs": [],
      "source": []
    },
    {
      "cell_type": "code",
      "execution_count": null,
      "id": "1a0998ae",
      "metadata": {
        "id": "1a0998ae"
      },
      "outputs": [],
      "source": []
    },
    {
      "cell_type": "code",
      "execution_count": null,
      "id": "ad2c4b76",
      "metadata": {
        "id": "ad2c4b76"
      },
      "outputs": [],
      "source": []
    },
    {
      "cell_type": "code",
      "execution_count": null,
      "id": "6bf9276e",
      "metadata": {
        "id": "6bf9276e"
      },
      "outputs": [],
      "source": []
    }
  ],
  "metadata": {
    "kernelspec": {
      "display_name": "Python [conda env:SBCDL]",
      "language": "python",
      "name": "conda-env-SBCDL-py"
    },
    "language_info": {
      "codemirror_mode": {
        "name": "ipython",
        "version": 3
      },
      "file_extension": ".py",
      "mimetype": "text/x-python",
      "name": "python",
      "nbconvert_exporter": "python",
      "pygments_lexer": "ipython3",
      "version": "3.12.4"
    },
    "colab": {
      "provenance": [],
      "gpuType": "V28",
      "include_colab_link": true
    },
    "accelerator": "TPU"
  },
  "nbformat": 4,
  "nbformat_minor": 5
}